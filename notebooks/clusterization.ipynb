{
 "cells": [
  {
   "cell_type": "markdown",
   "id": "7bf20bdf",
   "metadata": {},
   "source": [
    "# 0.0 imports"
   ]
  },
  {
   "cell_type": "code",
   "execution_count": 56,
   "id": "bd2b693c",
   "metadata": {
    "ExecuteTime": {
     "end_time": "2024-10-23T19:02:25.996977Z",
     "start_time": "2024-10-23T19:02:25.993260Z"
    }
   },
   "outputs": [],
   "source": [
    "import pandas as pd\n",
    "import numpy as np\n",
    "import sklearn\n",
    "\n",
    "from sklearn.cluster import KMeans, AffinityPropagation\n",
    "from sklearn.metrics import silhouette_score"
   ]
  },
  {
   "cell_type": "markdown",
   "id": "770f1230",
   "metadata": {
    "ExecuteTime": {
     "end_time": "2024-10-23T18:27:03.442147Z",
     "start_time": "2024-10-23T18:27:03.439073Z"
    }
   },
   "source": [
    "# 1.0 load dataset"
   ]
  },
  {
   "cell_type": "code",
   "execution_count": 57,
   "id": "78f0c46f",
   "metadata": {
    "ExecuteTime": {
     "end_time": "2024-10-23T19:02:26.831205Z",
     "start_time": "2024-10-23T19:02:26.823107Z"
    }
   },
   "outputs": [],
   "source": [
    "X_train = pd.read_csv('../projetoaluno/dataclust/X_dataset.csv')"
   ]
  },
  {
   "cell_type": "markdown",
   "id": "28d499dd",
   "metadata": {},
   "source": [
    "# 2.0 model training and predict"
   ]
  },
  {
   "cell_type": "code",
   "execution_count": 58,
   "id": "31e32ee0",
   "metadata": {
    "ExecuteTime": {
     "end_time": "2024-10-23T19:02:44.194728Z",
     "start_time": "2024-10-23T19:02:44.150886Z"
    }
   },
   "outputs": [
    {
     "name": "stdout",
     "output_type": "stream",
     "text": [
      "Número de clusters formados: 8\n"
     ]
    }
   ],
   "source": [
    "# K-Means\n",
    "kmeans = KMeans(n_clusters=8)\n",
    "kmeans_labels = kmeans.fit_predict(X_train)\n",
    "kmeans_silhouette = silhouette_score(X_train, kmeans_labels)\n",
    "\n",
    "#Affinity Propagation\n",
    "affinity_propagation = AffinityPropagation(preference=-40)\n",
    "affinity_labels = affinity_propagation.fit_predict(X_train)\n",
    "affinity_silhouette = silhouette_score(X_train, affinity_labels)\n",
    "n_clusters = len(np.unique(affinity_labels))\n",
    "print(f\"Número de clusters formados: {n_clusters}\")"
   ]
  },
  {
   "cell_type": "code",
   "execution_count": 59,
   "id": "5c25f731",
   "metadata": {
    "ExecuteTime": {
     "end_time": "2024-10-23T19:02:45.293915Z",
     "start_time": "2024-10-23T19:02:45.290243Z"
    }
   },
   "outputs": [
    {
     "name": "stdout",
     "output_type": "stream",
     "text": [
      "K-Means Silhouette Score: 0.1846\n",
      "Affinity Propagation Silhouette Score: 0.1623\n"
     ]
    }
   ],
   "source": [
    "print(f\"K-Means Silhouette Score: {kmeans_silhouette:.4f}\")\n",
    "print(f\"Affinity Propagation Silhouette Score: {affinity_silhouette:.4f}\")"
   ]
  },
  {
   "cell_type": "code",
   "execution_count": null,
   "id": "e496034b",
   "metadata": {},
   "outputs": [],
   "source": []
  }
 ],
 "metadata": {
  "hide_input": false,
  "kernelspec": {
   "display_name": "Python 3 (ipykernel)",
   "language": "python",
   "name": "python3"
  },
  "language_info": {
   "codemirror_mode": {
    "name": "ipython",
    "version": 3
   },
   "file_extension": ".py",
   "mimetype": "text/x-python",
   "name": "python",
   "nbconvert_exporter": "python",
   "pygments_lexer": "ipython3",
   "version": "3.11.5"
  }
 },
 "nbformat": 4,
 "nbformat_minor": 5
}
