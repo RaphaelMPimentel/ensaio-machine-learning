{
 "cells": [
  {
   "cell_type": "markdown",
   "id": "3644fa2e",
   "metadata": {},
   "source": [
    "# 0.0 import data"
   ]
  },
  {
   "cell_type": "code",
   "execution_count": 1,
   "id": "0c2f0a84",
   "metadata": {
    "ExecuteTime": {
     "end_time": "2024-10-22T20:50:34.822386Z",
     "start_time": "2024-10-22T20:50:34.300821Z"
    }
   },
   "outputs": [],
   "source": [
    "import pandas as pd\n",
    "import numpy as np\n",
    "import sklearn\n",
    "\n",
    "from sklearn.model_selection      import train_test_split\n",
    "from sklearn.preprocessing        import StandardScaler\n",
    "from sklearn.neighbors            import KNeighborsClassifier\n",
    "from sklearn.tree                 import DecisionTreeClassifier\n",
    "from sklearn.ensemble             import RandomForestClassifier\n",
    "from sklearn.linear_model         import LogisticRegression\n",
    "from sklearn.metrics              import accuracy_score, precision_score, recall_score, f1_score"
   ]
  },
  {
   "cell_type": "markdown",
   "id": "efbe929c",
   "metadata": {},
   "source": [
    "# 1.0 load dataset"
   ]
  },
  {
   "cell_type": "code",
   "execution_count": 2,
   "id": "143b5105",
   "metadata": {
    "ExecuteTime": {
     "end_time": "2024-10-22T20:50:35.719991Z",
     "start_time": "2024-10-22T20:50:35.556834Z"
    }
   },
   "outputs": [],
   "source": [
    "X_train = pd.read_csv('../projetoaluno/dataclass/X_training.csv')\n",
    "y_train = pd.read_csv('../projetoaluno/dataclass/y_training.csv')\n",
    "\n",
    "X_val = pd.read_csv('../projetoaluno/dataclass/X_validation.csv')\n",
    "y_val = pd.read_csv('../projetoaluno/dataclass/y_validation.csv')\n",
    "\n",
    "X_test = pd.read_csv('../projetoaluno/dataclass/X_test.csv')\n",
    "y_test = pd.read_csv('../projetoaluno/dataclass/y_test.csv')"
   ]
  },
  {
   "cell_type": "markdown",
   "id": "7ea3978c",
   "metadata": {
    "ExecuteTime": {
     "end_time": "2024-10-22T16:05:03.742229Z",
     "start_time": "2024-10-22T16:05:03.739397Z"
    }
   },
   "source": [
    "# 2.0 params definition"
   ]
  },
  {
   "cell_type": "code",
   "execution_count": 7,
   "id": "6e13426a",
   "metadata": {
    "ExecuteTime": {
     "end_time": "2024-10-22T20:52:40.008636Z",
     "start_time": "2024-10-22T20:52:40.002508Z"
    }
   },
   "outputs": [],
   "source": [
    "params = {\n",
    "    'KNN': {'n_neighbors': 5},\n",
    "    'Decision Tree': {'max_depth': 100},\n",
    "    'Random Forest': {'n_estimators': 100, 'max_depth': 100},\n",
    "    'Logistic Regression': {'C': 1.0, 'solver': 'liblinear', 'max_iter': 1000}\n",
    "}"
   ]
  },
  {
   "cell_type": "markdown",
   "id": "f4652de8",
   "metadata": {
    "ExecuteTime": {
     "end_time": "2024-10-22T16:58:31.783395Z",
     "start_time": "2024-10-22T16:58:31.780294Z"
    }
   },
   "source": [
    "# 3.0 model training and prediciton"
   ]
  },
  {
   "cell_type": "markdown",
   "id": "75c9ed13",
   "metadata": {
    "ExecuteTime": {
     "end_time": "2024-10-22T18:44:09.181691Z",
     "start_time": "2024-10-22T18:44:09.177416Z"
    }
   },
   "source": [
    "## 3.1 train dataset"
   ]
  },
  {
   "cell_type": "code",
   "execution_count": 4,
   "id": "6db2a3f2",
   "metadata": {
    "ExecuteTime": {
     "end_time": "2024-10-22T20:48:42.713621Z",
     "start_time": "2024-10-22T20:48:34.257930Z"
    }
   },
   "outputs": [
    {
     "name": "stderr",
     "output_type": "stream",
     "text": [
      "/Users/raphael/anaconda3/lib/python3.11/site-packages/sklearn/neighbors/_classification.py:238: DataConversionWarning: A column-vector y was passed when a 1d array was expected. Please change the shape of y to (n_samples,), for example using ravel().\n",
      "  return self._fit(X, y)\n",
      "/Users/raphael/anaconda3/lib/python3.11/site-packages/sklearn/base.py:1473: DataConversionWarning: A column-vector y was passed when a 1d array was expected. Please change the shape of y to (n_samples,), for example using ravel().\n",
      "  return fit_method(estimator, *args, **kwargs)\n",
      "/Users/raphael/anaconda3/lib/python3.11/site-packages/sklearn/utils/validation.py:1339: DataConversionWarning: A column-vector y was passed when a 1d array was expected. Please change the shape of y to (n_samples, ), for example using ravel().\n",
      "  y = column_or_1d(y, warn=True)\n"
     ]
    }
   ],
   "source": [
    "results = []\n",
    "\n",
    "# KNN\n",
    "knn = KNeighborsClassifier(n_neighbors=params['KNN']['n_neighbors'])\n",
    "knn.fit(X_train, y_train)\n",
    "y_pred = knn.predict(X_train)\n",
    "results.append({\n",
    "    'Model': 'KNN',\n",
    "    'Accuracy': accuracy_score(y_train, y_pred),\n",
    "    'Precision': precision_score(y_train, y_pred),\n",
    "    'Recall': recall_score(y_train, y_pred),\n",
    "    'F1-Score': f1_score(y_train, y_pred)\n",
    "})\n",
    "\n",
    "# Decision Tree\n",
    "dt = DecisionTreeClassifier(max_depth=params['Decision Tree']['max_depth'])\n",
    "dt.fit(X_train, y_train)\n",
    "y_pred = dt.predict(X_train)\n",
    "results.append({\n",
    "    'Model': 'Decision Tree',\n",
    "    'Accuracy': accuracy_score(y_train, y_pred),\n",
    "    'Precision': precision_score(y_train, y_pred),\n",
    "    'Recall': recall_score(y_train, y_pred),\n",
    "    'F1-Score': f1_score(y_train, y_pred)\n",
    "})\n",
    "\n",
    "# Random Forest\n",
    "rf = RandomForestClassifier(n_estimators=params['Random Forest']['n_estimators'],\n",
    "                             max_depth=params['Random Forest']['max_depth'])\n",
    "rf.fit(X_train, y_train)\n",
    "y_pred = rf.predict(X_train)\n",
    "results.append({\n",
    "    'Model': 'Random Forest',\n",
    "    'Accuracy': accuracy_score(y_train, y_pred),\n",
    "    'Precision': precision_score(y_train, y_pred),\n",
    "    'Recall': recall_score(y_train, y_pred),\n",
    "    'F1-Score': f1_score(y_train, y_pred)\n",
    "})\n",
    "\n",
    "# Logistic Regression\n",
    "lr = LogisticRegression(C=params['Logistic Regression']['C'],\n",
    "                         solver=params['Logistic Regression']['solver'],\n",
    "                         max_iter=params['Logistic Regression']['max_iter'])\n",
    "\n",
    "lr.fit(X_train, y_train)\n",
    "y_pred = lr.predict(X_train)\n",
    "results.append({\n",
    "    'Model': 'Logistic Regression',\n",
    "    'Accuracy': accuracy_score(y_train, y_pred),\n",
    "    'Precision': precision_score(y_train, y_pred),\n",
    "    'Recall': recall_score(y_train, y_pred),\n",
    "    'F1-Score': f1_score(y_train, y_pred)\n",
    "})\n"
   ]
  },
  {
   "cell_type": "code",
   "execution_count": 5,
   "id": "b4d470cd",
   "metadata": {
    "ExecuteTime": {
     "end_time": "2024-10-22T20:48:43.681553Z",
     "start_time": "2024-10-22T20:48:43.676406Z"
    }
   },
   "outputs": [],
   "source": [
    "data_results = pd.DataFrame(results)"
   ]
  },
  {
   "cell_type": "code",
   "execution_count": 6,
   "id": "c7a60298",
   "metadata": {
    "ExecuteTime": {
     "end_time": "2024-10-22T20:48:44.367926Z",
     "start_time": "2024-10-22T20:48:44.353112Z"
    }
   },
   "outputs": [
    {
     "data": {
      "text/html": [
       "<div>\n",
       "<style scoped>\n",
       "    .dataframe tbody tr th:only-of-type {\n",
       "        vertical-align: middle;\n",
       "    }\n",
       "\n",
       "    .dataframe tbody tr th {\n",
       "        vertical-align: top;\n",
       "    }\n",
       "\n",
       "    .dataframe thead th {\n",
       "        text-align: right;\n",
       "    }\n",
       "</style>\n",
       "<table border=\"1\" class=\"dataframe\">\n",
       "  <thead>\n",
       "    <tr style=\"text-align: right;\">\n",
       "      <th></th>\n",
       "      <th>Model</th>\n",
       "      <th>Accuracy</th>\n",
       "      <th>Precision</th>\n",
       "      <th>Recall</th>\n",
       "      <th>F1-Score</th>\n",
       "    </tr>\n",
       "  </thead>\n",
       "  <tbody>\n",
       "    <tr>\n",
       "      <th>0</th>\n",
       "      <td>KNN</td>\n",
       "      <td>0.781562</td>\n",
       "      <td>0.755893</td>\n",
       "      <td>0.732563</td>\n",
       "      <td>0.744046</td>\n",
       "    </tr>\n",
       "    <tr>\n",
       "      <th>1</th>\n",
       "      <td>Decision Tree</td>\n",
       "      <td>1.000000</td>\n",
       "      <td>1.000000</td>\n",
       "      <td>1.000000</td>\n",
       "      <td>1.000000</td>\n",
       "    </tr>\n",
       "    <tr>\n",
       "      <th>2</th>\n",
       "      <td>Random Forest</td>\n",
       "      <td>1.000000</td>\n",
       "      <td>1.000000</td>\n",
       "      <td>1.000000</td>\n",
       "      <td>1.000000</td>\n",
       "    </tr>\n",
       "    <tr>\n",
       "      <th>3</th>\n",
       "      <td>Logistic Regression</td>\n",
       "      <td>0.793132</td>\n",
       "      <td>0.729216</td>\n",
       "      <td>0.831424</td>\n",
       "      <td>0.776973</td>\n",
       "    </tr>\n",
       "  </tbody>\n",
       "</table>\n",
       "</div>"
      ],
      "text/plain": [
       "                 Model  Accuracy  Precision    Recall  F1-Score\n",
       "0                  KNN  0.781562   0.755893  0.732563  0.744046\n",
       "1        Decision Tree  1.000000   1.000000  1.000000  1.000000\n",
       "2        Random Forest  1.000000   1.000000  1.000000  1.000000\n",
       "3  Logistic Regression  0.793132   0.729216  0.831424  0.776973"
      ]
     },
     "execution_count": 6,
     "metadata": {},
     "output_type": "execute_result"
    }
   ],
   "source": [
    "data_results"
   ]
  },
  {
   "cell_type": "markdown",
   "id": "81702080",
   "metadata": {},
   "source": [
    "## 3.2 test dataset"
   ]
  },
  {
   "cell_type": "code",
   "execution_count": 8,
   "id": "818bd276",
   "metadata": {
    "ExecuteTime": {
     "end_time": "2024-10-22T20:54:22.770746Z",
     "start_time": "2024-10-22T20:54:16.406368Z"
    }
   },
   "outputs": [
    {
     "name": "stderr",
     "output_type": "stream",
     "text": [
      "/Users/raphael/anaconda3/lib/python3.11/site-packages/sklearn/neighbors/_classification.py:238: DataConversionWarning: A column-vector y was passed when a 1d array was expected. Please change the shape of y to (n_samples,), for example using ravel().\n",
      "  return self._fit(X, y)\n",
      "/Users/raphael/anaconda3/lib/python3.11/site-packages/sklearn/base.py:1473: DataConversionWarning: A column-vector y was passed when a 1d array was expected. Please change the shape of y to (n_samples,), for example using ravel().\n",
      "  return fit_method(estimator, *args, **kwargs)\n",
      "/Users/raphael/anaconda3/lib/python3.11/site-packages/sklearn/utils/validation.py:1339: DataConversionWarning: A column-vector y was passed when a 1d array was expected. Please change the shape of y to (n_samples, ), for example using ravel().\n",
      "  y = column_or_1d(y, warn=True)\n"
     ]
    }
   ],
   "source": [
    "results = []\n",
    "\n",
    "# KNN\n",
    "knn = KNeighborsClassifier(n_neighbors=params['KNN']['n_neighbors'])\n",
    "knn.fit(X_train, y_train)\n",
    "y_pred = knn.predict(X_test)\n",
    "results.append({\n",
    "    'Model': 'KNN',\n",
    "    'Accuracy': accuracy_score(y_test, y_pred), \n",
    "    'Precision': precision_score(y_test, y_pred),  \n",
    "    'Recall': recall_score(y_test, y_pred),  \n",
    "    'F1-Score': f1_score(y_test, y_pred)  \n",
    "})\n",
    "\n",
    "# Decision Tree\n",
    "dt = DecisionTreeClassifier(max_depth=params['Decision Tree']['max_depth'])\n",
    "dt.fit(X_train, y_train)\n",
    "y_pred = dt.predict(X_test)  \n",
    "results.append({\n",
    "    'Model': 'Decision Tree',\n",
    "    'Accuracy': accuracy_score(y_test, y_pred),  \n",
    "    'Precision': precision_score(y_test, y_pred),  \n",
    "    'Recall': recall_score(y_test, y_pred),  \n",
    "    'F1-Score': f1_score(y_test, y_pred)  \n",
    "})\n",
    "\n",
    "# Random Forest\n",
    "rf = RandomForestClassifier(n_estimators=params['Random Forest']['n_estimators'],\n",
    "                             max_depth=params['Random Forest']['max_depth'])\n",
    "rf.fit(X_train, y_train)\n",
    "y_pred = rf.predict(X_test)  \n",
    "results.append({\n",
    "    'Model': 'Random Forest',\n",
    "    'Accuracy': accuracy_score(y_test, y_pred),  \n",
    "    'Precision': precision_score(y_test, y_pred),  \n",
    "    'Recall': recall_score(y_test, y_pred),  \n",
    "    'F1-Score': f1_score(y_test, y_pred) \n",
    "})\n",
    "\n",
    "# Logistic Regression\n",
    "lr = LogisticRegression(C=params['Logistic Regression']['C'],\n",
    "                         solver=params['Logistic Regression']['solver'],\n",
    "                         max_iter=params['Logistic Regression']['max_iter'])\n",
    "lr.fit(X_train, y_train)\n",
    "y_pred = lr.predict(X_test) \n",
    "results.append({\n",
    "    'Model': 'Logistic Regression',\n",
    "    'Accuracy': accuracy_score(y_test, y_pred),  \n",
    "    'Precision': precision_score(y_test, y_pred),  \n",
    "    'Recall': recall_score(y_test, y_pred),  \n",
    "    'F1-Score': f1_score(y_test, y_pred)\n",
    "})"
   ]
  },
  {
   "cell_type": "code",
   "execution_count": 9,
   "id": "23a3138b",
   "metadata": {
    "ExecuteTime": {
     "end_time": "2024-10-22T20:54:24.117980Z",
     "start_time": "2024-10-22T20:54:24.113261Z"
    }
   },
   "outputs": [],
   "source": [
    "data_results_test = pd.DataFrame(results)"
   ]
  },
  {
   "cell_type": "code",
   "execution_count": 10,
   "id": "dfbf6dd2",
   "metadata": {
    "ExecuteTime": {
     "end_time": "2024-10-22T20:54:24.740063Z",
     "start_time": "2024-10-22T20:54:24.729612Z"
    }
   },
   "outputs": [
    {
     "data": {
      "text/html": [
       "<div>\n",
       "<style scoped>\n",
       "    .dataframe tbody tr th:only-of-type {\n",
       "        vertical-align: middle;\n",
       "    }\n",
       "\n",
       "    .dataframe tbody tr th {\n",
       "        vertical-align: top;\n",
       "    }\n",
       "\n",
       "    .dataframe thead th {\n",
       "        text-align: right;\n",
       "    }\n",
       "</style>\n",
       "<table border=\"1\" class=\"dataframe\">\n",
       "  <thead>\n",
       "    <tr style=\"text-align: right;\">\n",
       "      <th></th>\n",
       "      <th>Model</th>\n",
       "      <th>Accuracy</th>\n",
       "      <th>Precision</th>\n",
       "      <th>Recall</th>\n",
       "      <th>F1-Score</th>\n",
       "    </tr>\n",
       "  </thead>\n",
       "  <tbody>\n",
       "    <tr>\n",
       "      <th>0</th>\n",
       "      <td>KNN</td>\n",
       "      <td>0.670529</td>\n",
       "      <td>0.630816</td>\n",
       "      <td>0.601232</td>\n",
       "      <td>0.615669</td>\n",
       "    </tr>\n",
       "    <tr>\n",
       "      <th>1</th>\n",
       "      <td>Decision Tree</td>\n",
       "      <td>0.945043</td>\n",
       "      <td>0.935823</td>\n",
       "      <td>0.939199</td>\n",
       "      <td>0.937508</td>\n",
       "    </tr>\n",
       "    <tr>\n",
       "      <th>2</th>\n",
       "      <td>Random Forest</td>\n",
       "      <td>0.963426</td>\n",
       "      <td>0.972001</td>\n",
       "      <td>0.943863</td>\n",
       "      <td>0.957725</td>\n",
       "    </tr>\n",
       "    <tr>\n",
       "      <th>3</th>\n",
       "      <td>Logistic Regression</td>\n",
       "      <td>0.794655</td>\n",
       "      <td>0.733586</td>\n",
       "      <td>0.835636</td>\n",
       "      <td>0.781292</td>\n",
       "    </tr>\n",
       "  </tbody>\n",
       "</table>\n",
       "</div>"
      ],
      "text/plain": [
       "                 Model  Accuracy  Precision    Recall  F1-Score\n",
       "0                  KNN  0.670529   0.630816  0.601232  0.615669\n",
       "1        Decision Tree  0.945043   0.935823  0.939199  0.937508\n",
       "2        Random Forest  0.963426   0.972001  0.943863  0.957725\n",
       "3  Logistic Regression  0.794655   0.733586  0.835636  0.781292"
      ]
     },
     "execution_count": 10,
     "metadata": {},
     "output_type": "execute_result"
    }
   ],
   "source": [
    "data_results_test"
   ]
  },
  {
   "cell_type": "markdown",
   "id": "3c7bf712",
   "metadata": {
    "ExecuteTime": {
     "end_time": "2024-10-22T18:53:12.176786Z",
     "start_time": "2024-10-22T18:53:12.173738Z"
    }
   },
   "source": [
    "## 3.3 validation dataset"
   ]
  },
  {
   "cell_type": "code",
   "execution_count": 52,
   "id": "49208580",
   "metadata": {
    "ExecuteTime": {
     "end_time": "2024-10-22T18:56:44.571925Z",
     "start_time": "2024-10-22T18:56:40.982939Z"
    }
   },
   "outputs": [],
   "source": [
    "results = []\n",
    "\n",
    "# KNN\n",
    "knn = KNeighborsClassifier(n_neighbors=params['KNN']['n_neighbors'])\n",
    "knn.fit(X_train, y_train)\n",
    "y_pred = knn.predict(X_val)\n",
    "results.append({\n",
    "    'Model': 'KNN',\n",
    "    'Accuracy': accuracy_score(y_val, y_pred),\n",
    "    'Precision': precision_score(y_val, y_pred),\n",
    "    'Recall': recall_score(y_val, y_pred),\n",
    "    'F1-Score': f1_score(y_val, y_pred)\n",
    "})\n",
    "\n",
    "# Decision Tree\n",
    "dt = DecisionTreeClassifier(max_depth=params['Decision Tree']['max_depth'])\n",
    "dt.fit(X_train, y_train)\n",
    "y_pred = dt.predict(X_val)\n",
    "results.append({\n",
    "    'Model': 'Decision Tree',\n",
    "    'Accuracy': accuracy_score(y_val, y_pred),\n",
    "    'Precision': precision_score(y_val, y_pred),\n",
    "    'Recall': recall_score(y_val, y_pred),\n",
    "    'F1-Score': f1_score(y_val, y_pred)\n",
    "})\n",
    "\n",
    "# Random Forest\n",
    "rf = RandomForestClassifier(n_estimators=params['Random Forest']['n_estimators'],\n",
    "                             max_depth=params['Random Forest']['max_depth'])\n",
    "rf.fit(X_train, y_train)\n",
    "y_pred = rf.predict(X_val)\n",
    "results.append({\n",
    "    'Model': 'Random Forest',\n",
    "    'Accuracy': accuracy_score(y_val, y_pred),\n",
    "    'Precision': precision_score(y_val, y_pred),\n",
    "    'Recall': recall_score(y_val, y_pred),\n",
    "    'F1-Score': f1_score(y_val, y_pred)\n",
    "})\n",
    "\n",
    "# Logistic Regression\n",
    "lr = LogisticRegression(C=params['Logistic Regression']['C'],\n",
    "                         solver=params['Logistic Regression']['solver'],\n",
    "                         max_iter=params['Logistic Regression']['max_iter'])\n",
    "lr.fit(X_train, y_train)\n",
    "y_pred = lr.predict(X_val)\n",
    "results.append({\n",
    "    'Model': 'Logistic Regression',\n",
    "    'Accuracy': accuracy_score(y_val, y_pred),\n",
    "    'Precision': precision_score(y_val, y_pred),\n",
    "    'Recall': recall_score(y_val, y_pred),\n",
    "    'F1-Score': f1_score(y_val, y_pred)\n",
    "})\n"
   ]
  },
  {
   "cell_type": "code",
   "execution_count": 53,
   "id": "0664a427",
   "metadata": {
    "ExecuteTime": {
     "end_time": "2024-10-22T18:56:45.319701Z",
     "start_time": "2024-10-22T18:56:45.315392Z"
    }
   },
   "outputs": [],
   "source": [
    "data_results_val = pd.DataFrame(results)"
   ]
  },
  {
   "cell_type": "code",
   "execution_count": 54,
   "id": "70093f74",
   "metadata": {
    "ExecuteTime": {
     "end_time": "2024-10-22T18:56:46.585385Z",
     "start_time": "2024-10-22T18:56:46.577043Z"
    }
   },
   "outputs": [
    {
     "data": {
      "text/html": [
       "<div>\n",
       "<style scoped>\n",
       "    .dataframe tbody tr th:only-of-type {\n",
       "        vertical-align: middle;\n",
       "    }\n",
       "\n",
       "    .dataframe tbody tr th {\n",
       "        vertical-align: top;\n",
       "    }\n",
       "\n",
       "    .dataframe thead th {\n",
       "        text-align: right;\n",
       "    }\n",
       "</style>\n",
       "<table border=\"1\" class=\"dataframe\">\n",
       "  <thead>\n",
       "    <tr style=\"text-align: right;\">\n",
       "      <th></th>\n",
       "      <th>Model</th>\n",
       "      <th>Accuracy</th>\n",
       "      <th>Precision</th>\n",
       "      <th>Recall</th>\n",
       "      <th>F1-Score</th>\n",
       "    </tr>\n",
       "  </thead>\n",
       "  <tbody>\n",
       "    <tr>\n",
       "      <th>0</th>\n",
       "      <td>KNN</td>\n",
       "      <td>0.675665</td>\n",
       "      <td>0.631775</td>\n",
       "      <td>0.603163</td>\n",
       "      <td>0.617138</td>\n",
       "    </tr>\n",
       "    <tr>\n",
       "      <th>1</th>\n",
       "      <td>Decision Tree</td>\n",
       "      <td>0.906689</td>\n",
       "      <td>0.906531</td>\n",
       "      <td>0.874898</td>\n",
       "      <td>0.890434</td>\n",
       "    </tr>\n",
       "    <tr>\n",
       "      <th>2</th>\n",
       "      <td>Random Forest</td>\n",
       "      <td>0.924611</td>\n",
       "      <td>0.918522</td>\n",
       "      <td>0.906452</td>\n",
       "      <td>0.912447</td>\n",
       "    </tr>\n",
       "    <tr>\n",
       "      <th>3</th>\n",
       "      <td>Logistic Regression</td>\n",
       "      <td>0.794202</td>\n",
       "      <td>0.731068</td>\n",
       "      <td>0.830722</td>\n",
       "      <td>0.777716</td>\n",
       "    </tr>\n",
       "  </tbody>\n",
       "</table>\n",
       "</div>"
      ],
      "text/plain": [
       "                 Model  Accuracy  Precision    Recall  F1-Score\n",
       "0                  KNN  0.675665   0.631775  0.603163  0.617138\n",
       "1        Decision Tree  0.906689   0.906531  0.874898  0.890434\n",
       "2        Random Forest  0.924611   0.918522  0.906452  0.912447\n",
       "3  Logistic Regression  0.794202   0.731068  0.830722  0.777716"
      ]
     },
     "execution_count": 54,
     "metadata": {},
     "output_type": "execute_result"
    }
   ],
   "source": [
    "data_results_val"
   ]
  },
  {
   "cell_type": "code",
   "execution_count": null,
   "id": "465c0a6d",
   "metadata": {},
   "outputs": [],
   "source": []
  }
 ],
 "metadata": {
  "hide_input": false,
  "kernelspec": {
   "display_name": "Python 3 (ipykernel)",
   "language": "python",
   "name": "python3"
  },
  "language_info": {
   "codemirror_mode": {
    "name": "ipython",
    "version": 3
   },
   "file_extension": ".py",
   "mimetype": "text/x-python",
   "name": "python",
   "nbconvert_exporter": "python",
   "pygments_lexer": "ipython3",
   "version": "3.11.5"
  }
 },
 "nbformat": 4,
 "nbformat_minor": 5
}
